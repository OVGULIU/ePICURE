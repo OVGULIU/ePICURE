{
 "metadata": {
  "name": ""
 },
 "nbformat": 3,
 "nbformat_minor": 0,
 "worksheets": [
  {
   "cells": [
    {
     "cell_type": "code",
     "collapsed": false,
     "input": [
      "import os, sys\n",
      "lib_path = os.path.abspath('../')\n",
      "sys.path.append(lib_path)\n",
      "from interfaces import *\n",
      "from utilities import *\n",
      "import numpy as np\n",
      "#This command is for a prettier print of numpy arrays\n",
      "np.set_printoptions(formatter={'float': '{: 0.3f}'.format})\n",
      "\n",
      "from scipy.sparse import *\n",
      "import time\n",
      "import matplotlib.pyplot as plt"
     ],
     "language": "python",
     "metadata": {},
     "outputs": [],
     "prompt_number": 62
    },
    {
     "cell_type": "code",
     "collapsed": false,
     "input": [
      "#Vector spaceya\n",
      "vs=IteratedVectorSpace(UniformLagrangeVectorSpace(3), np.linspace(0,1,5))\n",
      "vs.print_info()"
     ],
     "language": "python",
     "metadata": {},
     "outputs": [
      {
       "output_type": "stream",
       "stream": "stdout",
       "text": [
        "============================================================\n",
        "Name: IteratedVectorSpace\n",
        "N dofs: 9, N cells: 4, \n",
        "Cell boundaries: [ 0.000  0.250  0.500  0.750  1.000]\n",
        "Shared dofs on cell boundaries: 1\n",
        "------------------------------------------------------------\n",
        "Cell 0: [0.0,0.25]\n",
        "Nonzero basis: [0, 1, 2]\n",
        "------------------------------------------------------------\n",
        "Cell 1: [0.25,0.5]\n",
        "Nonzero basis: [2, 3, 4]\n",
        "------------------------------------------------------------\n",
        "Cell 2: [0.5,0.75]\n",
        "Nonzero basis: [4, 5, 6]\n",
        "------------------------------------------------------------\n",
        "Cell 3: [0.75,1.0]\n",
        "Nonzero basis: [6, 7, 8]\n",
        "------------------------------------------------------------\n"
       ]
      }
     ],
     "prompt_number": 63
    },
    {
     "cell_type": "code",
     "collapsed": false,
     "input": [
      "cells=vs.n_cells\n",
      "cells"
     ],
     "language": "python",
     "metadata": {},
     "outputs": [
      {
       "metadata": {},
       "output_type": "pyout",
       "prompt_number": 64,
       "text": [
        "4"
       ]
      }
     ],
     "prompt_number": 64
    },
    {
     "cell_type": "code",
     "collapsed": false,
     "input": [
      "nbasis=vs.n_dofs\n",
      "nbasis"
     ],
     "language": "python",
     "metadata": {},
     "outputs": [
      {
       "metadata": {},
       "output_type": "pyout",
       "prompt_number": 65,
       "text": [
        "9"
       ]
      }
     ],
     "prompt_number": 65
    },
    {
     "cell_type": "code",
     "collapsed": false,
     "input": [
      "#test using sparce functions.\n",
      "\n",
      "cum=dok_matrix((nbasis,nbasis))\n",
      "(qst,wst)=np.polynomial.legendre.leggauss(5)      \n",
      "for lcell in xrange(vs.n_cells):\n",
      "    a,b=vs.cells[lcell],vs.cells[lcell+1]\n",
      "    q=((a+b)+(b-a)*qst)/2\n",
      "    w=(b-a)*wst/2\n",
      "    fnts=vs.cell_span(lcell)\n",
      "    nfnts=len(fnts)\n",
      "    fq=np.zeros((nfnts,5))\n",
      "    it=range(nfnts)\n",
      "    for i in it:\n",
      "        fq[i]=vs.basis(fnts[i])(q)\n",
      "    out=np.dot(fq*w,np.transpose(fq))\n",
      "    cont=-1\n",
      "    for rout, rcum in zip(out, fnts):\n",
      "        for vout, ccum in zip(rout, fnts):\n",
      "            cum[rcum,ccum]+=vout\n",
      "            \n",
      "#print using 3 formats\n",
      "tmp=cum.todense()\n",
      "print type(tmp), \"\\n\", tmp\n",
      "tmp=cum.toarray()\n",
      "print type(tmp), \"\\n\", tmp\n",
      "print type(cum), \"\\n\", cum"
     ],
     "language": "python",
     "metadata": {},
     "outputs": [
      {
       "output_type": "stream",
       "stream": "stdout",
       "text": [
        "<class 'numpy.matrixlib.defmatrix.matrix'> \n",
        "[[ 0.033  0.017 -0.008  0.000  0.000  0.000  0.000  0.000  0.000]\n",
        " [ 0.017  0.133  0.017  0.000  0.000  0.000  0.000  0.000  0.000]\n",
        " [-0.008  0.017  0.067  0.017 -0.008  0.000  0.000  0.000  0.000]\n",
        " [ 0.000  0.000  0.017  0.133  0.017  0.000  0.000  0.000  0.000]\n",
        " [ 0.000  0.000 -0.008  0.017  0.067  0.017 -0.008  0.000  0.000]\n",
        " [ 0.000  0.000  0.000  0.000  0.017  0.133  0.017  0.000  0.000]\n",
        " [ 0.000  0.000  0.000  0.000 -0.008  0.017  0.067  0.017 -0.008]\n",
        " [ 0.000  0.000  0.000  0.000  0.000  0.000  0.017  0.133  0.017]\n",
        " [ 0.000  0.000  0.000  0.000  0.000  0.000 -0.008  0.017  0.033]]\n",
        "<type 'numpy.ndarray'> \n",
        "[[ 0.033  0.017 -0.008  0.000  0.000  0.000  0.000  0.000  0.000]\n",
        " [ 0.017  0.133  0.017  0.000  0.000  0.000  0.000  0.000  0.000]\n",
        " [-0.008  0.017  0.067  0.017 -0.008  0.000  0.000  0.000  0.000]\n",
        " [ 0.000  0.000  0.017  0.133  0.017  0.000  0.000  0.000  0.000]\n",
        " [ 0.000  0.000 -0.008  0.017  0.067  0.017 -0.008  0.000  0.000]\n",
        " [ 0.000  0.000  0.000  0.000  0.017  0.133  0.017  0.000  0.000]\n",
        " [ 0.000  0.000  0.000  0.000 -0.008  0.017  0.067  0.017 -0.008]\n",
        " [ 0.000  0.000  0.000  0.000  0.000  0.000  0.017  0.133  0.017]\n",
        " [ 0.000  0.000  0.000  0.000  0.000  0.000 -0.008  0.017  0.033]]\n",
        "<class 'scipy.sparse.dok.dok_matrix'> \n",
        "  (6, 6)\t0.0666666666667\n",
        "  (5, 6)\t0.0166666666667\n",
        "  (5, 4)\t0.0166666666667\n",
        "  (2, 1)\t0.0166666666667\n",
        "  (1, 2)\t0.0166666666667\n",
        "  (6, 7)\t0.0166666666667\n",
        "  (3, 3)\t0.133333333333\n",
        "  (7, 6)\t0.0166666666667\n",
        "  (4, 4)\t0.0666666666667\n",
        "  (2, 2)\t0.0666666666667\n",
        "  (8, 6)\t-0.00833333333333\n",
        "  (1, 1)\t0.133333333333\n",
        "  (6, 4)\t-0.00833333333333\n",
        "  (3, 2)\t0.0166666666667\n",
        "  (0, 0)\t0.0333333333333\n",
        "  (4, 5)\t0.0166666666667\n",
        "  (7, 7)\t0.133333333333\n",
        "  (2, 3)\t0.0166666666667\n",
        "  (8, 7)\t0.0166666666667\n",
        "  (6, 8)\t-0.00833333333333\n",
        "  (4, 2)\t-0.00833333333333\n",
        "  (1, 0)\t0.0166666666667\n",
        "  (6, 5)\t0.0166666666667\n",
        "  (5, 5)\t0.133333333333\n",
        "  (0, 1)\t0.0166666666667\n",
        "  (4, 6)\t-0.00833333333333\n",
        "  (7, 8)\t0.0166666666667\n",
        "  (0, 2)\t-0.00833333333333\n",
        "  (2, 0)\t-0.00833333333333\n",
        "  (8, 8)\t0.0333333333333\n",
        "  (4, 3)\t0.0166666666667\n",
        "  (3, 4)\t0.0166666666667\n",
        "  (2, 4)\t-0.00833333333333\n"
       ]
      }
     ],
     "prompt_number": 66
    },
    {
     "cell_type": "code",
     "collapsed": false,
     "input": [
      "#Using the default function that returns a numpy array no sparced.\n",
      "\n",
      "t=massmatrix(vs,5)\n",
      "print t"
     ],
     "language": "python",
     "metadata": {},
     "outputs": [
      {
       "output_type": "stream",
       "stream": "stdout",
       "text": [
        "[[ 0.033  0.017 -0.008  0.000  0.000  0.000  0.000  0.000  0.000]\n",
        " [ 0.017  0.133  0.017  0.000  0.000  0.000  0.000  0.000  0.000]\n",
        " [-0.008  0.017  0.067  0.017 -0.008  0.000  0.000  0.000  0.000]\n",
        " [ 0.000  0.000  0.017  0.133  0.017  0.000  0.000  0.000  0.000]\n",
        " [ 0.000  0.000 -0.008  0.017  0.067  0.017 -0.008  0.000  0.000]\n",
        " [ 0.000  0.000  0.000  0.000  0.017  0.133  0.017  0.000  0.000]\n",
        " [ 0.000  0.000  0.000  0.000 -0.008  0.017  0.067  0.017 -0.008]\n",
        " [ 0.000  0.000  0.000  0.000  0.000  0.000  0.017  0.133  0.017]\n",
        " [ 0.000  0.000  0.000  0.000  0.000  0.000 -0.008  0.017  0.033]]\n"
       ]
      }
     ],
     "prompt_number": 67
    },
    {
     "cell_type": "code",
     "collapsed": false,
     "input": [
      "#Using the CSC function\n",
      "\n",
      "t2=massmatrix(vs,5,format=\"CSC\")\n",
      "print t2"
     ],
     "language": "python",
     "metadata": {},
     "outputs": [
      {
       "output_type": "stream",
       "stream": "stdout",
       "text": [
        "  (0, 0)\t0.0333333333333\n",
        "  (1, 0)\t0.0166666666667\n",
        "  (2, 0)\t-0.00833333333333\n",
        "  (0, 1)\t0.0166666666667\n",
        "  (1, 1)\t0.133333333333\n",
        "  (2, 1)\t0.0166666666667\n",
        "  (0, 2)\t-0.00833333333333\n",
        "  (1, 2)\t0.0166666666667\n",
        "  (2, 2)\t0.0666666666667\n",
        "  (3, 2)\t0.0166666666667\n",
        "  (4, 2)\t-0.00833333333333\n",
        "  (2, 3)\t0.0166666666667\n",
        "  (3, 3)\t0.133333333333\n",
        "  (4, 3)\t0.0166666666667\n",
        "  (2, 4)\t-0.00833333333333\n",
        "  (3, 4)\t0.0166666666667\n",
        "  (4, 4)\t0.0666666666667\n",
        "  (5, 4)\t0.0166666666667\n",
        "  (6, 4)\t-0.00833333333333\n",
        "  (4, 5)\t0.0166666666667\n",
        "  (5, 5)\t0.133333333333\n",
        "  (6, 5)\t0.0166666666667\n",
        "  (4, 6)\t-0.00833333333333\n",
        "  (5, 6)\t0.0166666666667\n",
        "  (6, 6)\t0.0666666666667\n",
        "  (7, 6)\t0.0166666666667\n",
        "  (8, 6)\t-0.00833333333333\n",
        "  (6, 7)\t0.0166666666667\n",
        "  (7, 7)\t0.133333333333\n",
        "  (8, 7)\t0.0166666666667\n",
        "  (6, 8)\t-0.00833333333333\n",
        "  (7, 8)\t0.0166666666667\n",
        "  (8, 8)\t0.0333333333333\n"
       ]
      }
     ],
     "prompt_number": 68
    },
    {
     "cell_type": "code",
     "collapsed": false,
     "input": [
      "#Using the CSR option.\n",
      "\n",
      "t2=massmatrix(vs,5,format=\"CSR\")\n",
      "print t2"
     ],
     "language": "python",
     "metadata": {},
     "outputs": [
      {
       "output_type": "stream",
       "stream": "stdout",
       "text": [
        "  (0, 0)\t0.0333333333333\n",
        "  (0, 1)\t0.0166666666667\n",
        "  (0, 2)\t-0.00833333333333\n",
        "  (1, 0)\t0.0166666666667\n",
        "  (1, 1)\t0.133333333333\n",
        "  (1, 2)\t0.0166666666667\n",
        "  (2, 0)\t-0.00833333333333\n",
        "  (2, 1)\t0.0166666666667\n",
        "  (2, 2)\t0.0666666666667\n",
        "  (2, 3)\t0.0166666666667\n",
        "  (2, 4)\t-0.00833333333333\n",
        "  (3, 2)\t0.0166666666667\n",
        "  (3, 3)\t0.133333333333\n",
        "  (3, 4)\t0.0166666666667\n",
        "  (4, 2)\t-0.00833333333333\n",
        "  (4, 3)\t0.0166666666667\n",
        "  (4, 4)\t0.0666666666667\n",
        "  (4, 5)\t0.0166666666667\n",
        "  (4, 6)\t-0.00833333333333\n",
        "  (5, 4)\t0.0166666666667\n",
        "  (5, 5)\t0.133333333333\n",
        "  (5, 6)\t0.0166666666667\n",
        "  (6, 4)\t-0.00833333333333\n",
        "  (6, 5)\t0.0166666666667\n",
        "  (6, 6)\t0.0666666666667\n",
        "  (6, 7)\t0.0166666666667\n",
        "  (6, 8)\t-0.00833333333333\n",
        "  (7, 6)\t0.0166666666667\n",
        "  (7, 7)\t0.133333333333\n",
        "  (7, 8)\t0.0166666666667\n",
        "  (8, 6)\t-0.00833333333333\n",
        "  (8, 7)\t0.0166666666667\n",
        "  (8, 8)\t0.0333333333333\n"
       ]
      }
     ],
     "prompt_number": 69
    },
    {
     "cell_type": "code",
     "collapsed": false,
     "input": [
      "    for i in range(2):\n",
      "        for j in range(2,i):\n",
      "            vs=IteratedVectorSpace(UniformLagrangeVectorSpace(j), np.linspace(0,1,i))\n",
      "            v=np.ones(vs.n_dofs)\n",
      "            for k in range(2,10):\n",
      "                tem=massmatrix(vs,k)\n",
      "                assert abs(v.dot(tem.dot(v))-1.0)<10**(-10)"
     ],
     "language": "python",
     "metadata": {},
     "outputs": [],
     "prompt_number": 70
    },
    {
     "cell_type": "code",
     "collapsed": false,
     "input": [
      "#test for to decide between using LIL or DOK\n",
      "results=[]\n",
      "print \"cels\",\"nbasis\",\"CSR\",\"LIL\"\n",
      "for i in np.arange(2,5):\n",
      "    for j in np.arange(2,10):\n",
      "        vs=IteratedVectorSpace(UniformLagrangeVectorSpace(j), np.linspace(0,1,4**i))\n",
      "        v=np.ones(vs.n_dofs)\n",
      "        t1 = int(round(time.time() * 1000))\n",
      "        tdok=massmatrix(vs,3)\n",
      "        t2 = int(round(time.time() * 1000))\n",
      "        tlil=massmatrix(vs,3,internal=\"LIL\")\n",
      "        t3 = int(round(time.time() * 1000))\n",
      "        lres=[4**i, j, t2-t1,t3-t2]\n",
      "        results.append(lres)\n",
      "        print lres\n",
      "print \"done\""
     ],
     "language": "python",
     "metadata": {},
     "outputs": [
      {
       "output_type": "stream",
       "stream": "stdout",
       "text": [
        "cels nbasis CSR LIL\n",
        "[16, 2, 24, 36]"
       ]
      },
      {
       "output_type": "stream",
       "stream": "stdout",
       "text": [
        "\n",
        "[16, 3, 56, 63]"
       ]
      },
      {
       "output_type": "stream",
       "stream": "stdout",
       "text": [
        "\n",
        "[16, 4, 110, 92]"
       ]
      },
      {
       "output_type": "stream",
       "stream": "stdout",
       "text": [
        "\n",
        "[16, 5, 137, 161]"
       ]
      },
      {
       "output_type": "stream",
       "stream": "stdout",
       "text": [
        "\n",
        "[16, 6, 238, 231]"
       ]
      },
      {
       "output_type": "stream",
       "stream": "stdout",
       "text": [
        "\n",
        "[16, 7, 330, 422]"
       ]
      },
      {
       "output_type": "stream",
       "stream": "stdout",
       "text": [
        "\n",
        "[16, 8, 861, 1178]"
       ]
      },
      {
       "output_type": "stream",
       "stream": "stdout",
       "text": [
        "\n",
        "[16, 9, 608, 1057]"
       ]
      },
      {
       "output_type": "stream",
       "stream": "stdout",
       "text": [
        "\n",
        "[64, 2, 71, 69]"
       ]
      },
      {
       "output_type": "stream",
       "stream": "stdout",
       "text": [
        "\n",
        "[64, 3, 135, 166]"
       ]
      },
      {
       "output_type": "stream",
       "stream": "stdout",
       "text": [
        "\n",
        "[64, 4, 269, 322]"
       ]
      },
      {
       "output_type": "stream",
       "stream": "stdout",
       "text": [
        "\n",
        "[64, 5, 657, 820]"
       ]
      },
      {
       "output_type": "stream",
       "stream": "stdout",
       "text": [
        "\n",
        "[64, 6, 1110, 1296]"
       ]
      },
      {
       "output_type": "stream",
       "stream": "stdout",
       "text": [
        "\n",
        "[64, 7, 1235, 1392]"
       ]
      },
      {
       "output_type": "stream",
       "stream": "stdout",
       "text": [
        "\n",
        "[64, 8, 2424, 2709]"
       ]
      },
      {
       "output_type": "stream",
       "stream": "stdout",
       "text": [
        "\n",
        "[64, 9, 2464, 2981]"
       ]
      },
      {
       "output_type": "stream",
       "stream": "stdout",
       "text": [
        "\n",
        "[256, 2, 319, 390]"
       ]
      },
      {
       "output_type": "stream",
       "stream": "stdout",
       "text": [
        "\n",
        "[256, 3, 832, 961]"
       ]
      },
      {
       "output_type": "stream",
       "stream": "stdout",
       "text": [
        "\n",
        "[256, 4, 1136, 2423]"
       ]
      },
      {
       "output_type": "stream",
       "stream": "stdout",
       "text": [
        "\n",
        "[256, 5, 2028, 2374]"
       ]
      },
      {
       "output_type": "stream",
       "stream": "stdout",
       "text": [
        "\n",
        "[256, 6, 4160, 5482]"
       ]
      },
      {
       "output_type": "stream",
       "stream": "stdout",
       "text": [
        "\n",
        "[256, 7, 5973, 7215]"
       ]
      },
      {
       "output_type": "stream",
       "stream": "stdout",
       "text": [
        "\n",
        "[256, 8, 9414, 8595]"
       ]
      },
      {
       "output_type": "stream",
       "stream": "stdout",
       "text": [
        "\n",
        "[256, 9, 10149, 11687]"
       ]
      },
      {
       "output_type": "stream",
       "stream": "stdout",
       "text": [
        "\n",
        "done\n"
       ]
      }
     ],
     "prompt_number": 72
    }
   ],
   "metadata": {}
  }
 ]
}