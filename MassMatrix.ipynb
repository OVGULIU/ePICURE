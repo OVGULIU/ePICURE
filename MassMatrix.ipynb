{
 "metadata": {
  "name": ""
 },
 "nbformat": 3,
 "nbformat_minor": 0,
 "worksheets": [
  {
   "cells": [
    {
     "cell_type": "code",
     "collapsed": false,
     "input": [
      "from interfaces import *\n",
      "from utilities import *\n",
      "import numpy as np\n",
      "np.set_printoptions(formatter={'float': '{: 0.3f}'.format})"
     ],
     "language": "python",
     "metadata": {},
     "outputs": [],
     "prompt_number": 2
    },
    {
     "cell_type": "code",
     "collapsed": false,
     "input": [
      "vs=IteratedVectorSpace(UniformLagrangeVectorSpace(3), np.linspace(0,1,5))\n",
      "vs.print_info()"
     ],
     "language": "python",
     "metadata": {},
     "outputs": [
      {
       "output_type": "stream",
       "stream": "stdout",
       "text": [
        "============================================================\n",
        "Name: IteratedVectorSpace\n",
        "N dofs: 9, N cells: 4, \n",
        "Cell boundaries: [ 0.000  0.250  0.500  0.750  1.000]\n",
        "Shared dofs on cell boundaries: 1\n",
        "------------------------------------------------------------\n",
        "Cell 0: [0.0,0.25]\n",
        "Nonzero basis: [0, 1, 2]\n",
        "------------------------------------------------------------\n",
        "Cell 1: [0.25,0.5]\n",
        "Nonzero basis: [2, 3, 4]\n",
        "------------------------------------------------------------\n",
        "Cell 2: [0.5,0.75]\n",
        "Nonzero basis: [4, 5, 6]\n",
        "------------------------------------------------------------\n",
        "Cell 3: [0.75,1.0]\n",
        "Nonzero basis: [6, 7, 8]\n",
        "------------------------------------------------------------\n"
       ]
      }
     ],
     "prompt_number": 3
    },
    {
     "cell_type": "code",
     "collapsed": false,
     "input": [
      "cells=vs.n_cells\n",
      "cells"
     ],
     "language": "python",
     "metadata": {},
     "outputs": [
      {
       "metadata": {},
       "output_type": "pyout",
       "prompt_number": 4,
       "text": [
        "4"
       ]
      }
     ],
     "prompt_number": 4
    },
    {
     "cell_type": "code",
     "collapsed": false,
     "input": [
      "nbasis=vs.n_dofs\n",
      "nbasis"
     ],
     "language": "python",
     "metadata": {},
     "outputs": [
      {
       "metadata": {},
       "output_type": "pyout",
       "prompt_number": 5,
       "text": [
        "9"
       ]
      }
     ],
     "prompt_number": 5
    },
    {
     "cell_type": "code",
     "collapsed": false,
     "input": [
      "cum=np.zeros((nbasis,nbasis))\n",
      "(qst,wst)=np.polynomial.legendre.leggauss(5)      \n",
      "for lcell in xrange(vs.n_cells):\n",
      "    a,b=vs.cells[lcell],vs.cells[lcell+1]\n",
      "    q=((a+b)+(b-a)*qst)/2\n",
      "    w=(a+b)*wst/2\n",
      "    fnts=vs.cell_span(lcell)\n",
      "    nfnts=len(fnts)\n",
      "    fq=np.zeros((nfnts,5))\n",
      "    it=range(nfnts)\n",
      "    for i in it:\n",
      "        fq[i]=vs.basis(fnts[i])(q)\n",
      "    out=np.dot(fq*w,np.transpose(fq))\n",
      "    cont=-1\n",
      "    for rout, rcum in zip(out, fnts):\n",
      "        for vout, ccum in zip(rout, fnts):\n",
      "            cum[rcum,ccum]+=vout\n",
      "print cum, \"\\n\""
     ],
     "language": "python",
     "metadata": {},
     "outputs": [
      {
       "output_type": "stream",
       "stream": "stdout",
       "text": [
        "[[ 0.033  0.017 -0.008  0.000  0.000  0.000  0.000  0.000  0.000]\n",
        " [ 0.017  0.133  0.017  0.000  0.000  0.000  0.000  0.000  0.000]\n",
        " [-0.008  0.017  0.133  0.050 -0.025  0.000  0.000  0.000  0.000]\n",
        " [ 0.000  0.000  0.050  0.400  0.050  0.000  0.000  0.000  0.000]\n",
        " [ 0.000  0.000 -0.025  0.050  0.267  0.083 -0.042  0.000  0.000]\n",
        " [ 0.000  0.000  0.000  0.000  0.083  0.667  0.083  0.000  0.000]\n",
        " [ 0.000  0.000  0.000  0.000 -0.042  0.083  0.400  0.117 -0.058]\n",
        " [ 0.000  0.000  0.000  0.000  0.000  0.000  0.117  0.933  0.117]\n",
        " [ 0.000  0.000  0.000  0.000  0.000  0.000 -0.058  0.117  0.233]] \n",
        "\n"
       ]
      }
     ],
     "prompt_number": 6
    },
    {
     "cell_type": "code",
     "collapsed": false,
     "input": [
      "t=massmatrix(vs,5)\n",
      "print t"
     ],
     "language": "python",
     "metadata": {},
     "outputs": [
      {
       "output_type": "stream",
       "stream": "stdout",
       "text": [
        "[[ 0.033  0.017 -0.008  0.000  0.000  0.000  0.000  0.000  0.000]\n",
        " [ 0.017  0.133  0.017  0.000  0.000  0.000  0.000  0.000  0.000]\n",
        " [-0.008  0.017  0.133  0.050 -0.025  0.000  0.000  0.000  0.000]\n",
        " [ 0.000  0.000  0.050  0.400  0.050  0.000  0.000  0.000  0.000]\n",
        " [ 0.000  0.000 -0.025  0.050  0.267  0.083 -0.042  0.000  0.000]\n",
        " [ 0.000  0.000  0.000  0.000  0.083  0.667  0.083  0.000  0.000]\n",
        " [ 0.000  0.000  0.000  0.000 -0.042  0.083  0.400  0.117 -0.058]\n",
        " [ 0.000  0.000  0.000  0.000  0.000  0.000  0.117  0.933  0.117]\n",
        " [ 0.000  0.000  0.000  0.000  0.000  0.000 -0.058  0.117  0.233]]\n"
       ]
      }
     ],
     "prompt_number": 9
    },
    {
     "cell_type": "code",
     "collapsed": false,
     "input": [
      "def t(a,b,c=a+b):\n",
      "    print \"c=\",c, a+b\n",
      "    return c\n",
      "\n",
      "t(2,3)"
     ],
     "language": "python",
     "metadata": {},
     "outputs": []
    },
    {
     "cell_type": "code",
     "collapsed": false,
     "input": [],
     "language": "python",
     "metadata": {},
     "outputs": [
      {
       "output_type": "stream",
       "stream": "stdout",
       "text": [
        "[[ 0.033  0.017 -0.008  0.000  0.000  0.000  0.000  0.000  0.000]\n",
        " [ 0.017  0.133  0.017  0.000  0.000  0.000  0.000  0.000  0.000]\n",
        " [-0.008  0.017  0.133  0.050 -0.025  0.000  0.000  0.000  0.000]\n",
        " [ 0.000  0.000  0.050  0.400  0.050  0.000  0.000  0.000  0.000]\n",
        " [ 0.000  0.000 -0.025  0.050  0.267  0.083 -0.042  0.000  0.000]\n",
        " [ 0.000  0.000  0.000  0.000  0.083  0.667  0.083  0.000  0.000]\n",
        " [ 0.000  0.000  0.000  0.000 -0.042  0.083  0.400  0.117 -0.058]\n",
        " [ 0.000  0.000  0.000  0.000  0.000  0.000  0.117  0.933  0.117]\n",
        " [ 0.000  0.000  0.000  0.000  0.000  0.000 -0.058  0.117  0.233]]\n"
       ]
      }
     ],
     "prompt_number": 8
    },
    {
     "cell_type": "code",
     "collapsed": false,
     "input": [],
     "language": "python",
     "metadata": {},
     "outputs": []
    },
    {
     "cell_type": "code",
     "collapsed": false,
     "input": [],
     "language": "python",
     "metadata": {},
     "outputs": []
    },
    {
     "cell_type": "code",
     "collapsed": false,
     "input": [],
     "language": "python",
     "metadata": {},
     "outputs": [],
     "prompt_number": 7
    },
    {
     "cell_type": "code",
     "collapsed": false,
     "input": [
      "\n"
     ],
     "language": "python",
     "metadata": {},
     "outputs": [],
     "prompt_number": 7
    },
    {
     "cell_type": "code",
     "collapsed": false,
     "input": [],
     "language": "python",
     "metadata": {},
     "outputs": [],
     "prompt_number": 7
    }
   ],
   "metadata": {}
  }
 ]
}